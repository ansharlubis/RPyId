{
 "cells": [
  {
   "cell_type": "markdown",
   "metadata": {},
   "source": [
    "# Introduction to R\n",
    "\n",
    "#### date: 2019/11/09 (Sat)\n",
    "\n",
    "#### ref : https://swcarpentry.github.io/r-novice-inflammation/01-starting-with-data/index.html"
   ]
  },
  {
   "cell_type": "markdown",
   "metadata": {},
   "source": [
    "---\n",
    "## Make a dataframe"
   ]
  },
  {
   "cell_type": "markdown",
   "metadata": {},
   "source": [
    "### Read csv file data/inflammation-01.csv and assign it as df"
   ]
  },
  {
   "cell_type": "code",
   "execution_count": 39,
   "metadata": {},
   "outputs": [],
   "source": [
    "df = read.csv(file=\"data/inflammation-01.csv\", header=FALSE)"
   ]
  },
  {
   "cell_type": "markdown",
   "metadata": {},
   "source": [
    "### Display head (first 6 rows) of df"
   ]
  },
  {
   "cell_type": "code",
   "execution_count": 40,
   "metadata": {},
   "outputs": [
    {
     "data": {
      "text/html": [
       "<table>\n",
       "<thead><tr><th scope=col>V1</th><th scope=col>V2</th><th scope=col>V3</th><th scope=col>V4</th><th scope=col>V5</th><th scope=col>V6</th><th scope=col>V7</th><th scope=col>V8</th><th scope=col>V9</th><th scope=col>V10</th><th scope=col>...</th><th scope=col>V31</th><th scope=col>V32</th><th scope=col>V33</th><th scope=col>V34</th><th scope=col>V35</th><th scope=col>V36</th><th scope=col>V37</th><th scope=col>V38</th><th scope=col>V39</th><th scope=col>V40</th></tr></thead>\n",
       "<tbody>\n",
       "\t<tr><td>0  </td><td>0  </td><td>1  </td><td>3  </td><td>1  </td><td>2  </td><td>4  </td><td>7  </td><td>8  </td><td>3  </td><td>...</td><td> 4 </td><td>4  </td><td>5  </td><td>7  </td><td>3  </td><td>4  </td><td>2  </td><td>3  </td><td>0  </td><td>0  </td></tr>\n",
       "\t<tr><td>0  </td><td>1  </td><td>2  </td><td>1  </td><td>2  </td><td>1  </td><td>3  </td><td>2  </td><td>2  </td><td>6  </td><td>...</td><td> 3 </td><td>5  </td><td>4  </td><td>4  </td><td>5  </td><td>5  </td><td>1  </td><td>1  </td><td>0  </td><td>1  </td></tr>\n",
       "\t<tr><td>0  </td><td>1  </td><td>1  </td><td>3  </td><td>3  </td><td>2  </td><td>6  </td><td>2  </td><td>5  </td><td>9  </td><td>...</td><td>10 </td><td>5  </td><td>4  </td><td>2  </td><td>2  </td><td>3  </td><td>2  </td><td>2  </td><td>1  </td><td>1  </td></tr>\n",
       "\t<tr><td>0  </td><td>0  </td><td>2  </td><td>0  </td><td>4  </td><td>2  </td><td>2  </td><td>1  </td><td>6  </td><td>7  </td><td>...</td><td> 3 </td><td>5  </td><td>6  </td><td>3  </td><td>3  </td><td>4  </td><td>2  </td><td>3  </td><td>2  </td><td>1  </td></tr>\n",
       "\t<tr><td>0  </td><td>1  </td><td>1  </td><td>3  </td><td>3  </td><td>1  </td><td>3  </td><td>5  </td><td>2  </td><td>4  </td><td>...</td><td> 9 </td><td>6  </td><td>3  </td><td>2  </td><td>2  </td><td>4  </td><td>2  </td><td>0  </td><td>1  </td><td>1  </td></tr>\n",
       "\t<tr><td>0  </td><td>0  </td><td>1  </td><td>2  </td><td>2  </td><td>4  </td><td>2  </td><td>1  </td><td>6  </td><td>4  </td><td>...</td><td> 8 </td><td>4  </td><td>7  </td><td>3  </td><td>5  </td><td>4  </td><td>4  </td><td>3  </td><td>2  </td><td>1  </td></tr>\n",
       "</tbody>\n",
       "</table>\n"
      ],
      "text/latex": [
       "\\begin{tabular}{r|llllllllllllllllllllllllllllllllllllllll}\n",
       " V1 & V2 & V3 & V4 & V5 & V6 & V7 & V8 & V9 & V10 & ... & V31 & V32 & V33 & V34 & V35 & V36 & V37 & V38 & V39 & V40\\\\\n",
       "\\hline\n",
       "\t 0   & 0   & 1   & 3   & 1   & 2   & 4   & 7   & 8   & 3   & ... &  4  & 4   & 5   & 7   & 3   & 4   & 2   & 3   & 0   & 0  \\\\\n",
       "\t 0   & 1   & 2   & 1   & 2   & 1   & 3   & 2   & 2   & 6   & ... &  3  & 5   & 4   & 4   & 5   & 5   & 1   & 1   & 0   & 1  \\\\\n",
       "\t 0   & 1   & 1   & 3   & 3   & 2   & 6   & 2   & 5   & 9   & ... & 10  & 5   & 4   & 2   & 2   & 3   & 2   & 2   & 1   & 1  \\\\\n",
       "\t 0   & 0   & 2   & 0   & 4   & 2   & 2   & 1   & 6   & 7   & ... &  3  & 5   & 6   & 3   & 3   & 4   & 2   & 3   & 2   & 1  \\\\\n",
       "\t 0   & 1   & 1   & 3   & 3   & 1   & 3   & 5   & 2   & 4   & ... &  9  & 6   & 3   & 2   & 2   & 4   & 2   & 0   & 1   & 1  \\\\\n",
       "\t 0   & 0   & 1   & 2   & 2   & 4   & 2   & 1   & 6   & 4   & ... &  8  & 4   & 7   & 3   & 5   & 4   & 4   & 3   & 2   & 1  \\\\\n",
       "\\end{tabular}\n"
      ],
      "text/markdown": [
       "\n",
       "V1 | V2 | V3 | V4 | V5 | V6 | V7 | V8 | V9 | V10 | ... | V31 | V32 | V33 | V34 | V35 | V36 | V37 | V38 | V39 | V40 | \n",
       "|---|---|---|---|---|---|\n",
       "| 0   | 0   | 1   | 3   | 1   | 2   | 4   | 7   | 8   | 3   | ... |  4  | 4   | 5   | 7   | 3   | 4   | 2   | 3   | 0   | 0   | \n",
       "| 0   | 1   | 2   | 1   | 2   | 1   | 3   | 2   | 2   | 6   | ... |  3  | 5   | 4   | 4   | 5   | 5   | 1   | 1   | 0   | 1   | \n",
       "| 0   | 1   | 1   | 3   | 3   | 2   | 6   | 2   | 5   | 9   | ... | 10  | 5   | 4   | 2   | 2   | 3   | 2   | 2   | 1   | 1   | \n",
       "| 0   | 0   | 2   | 0   | 4   | 2   | 2   | 1   | 6   | 7   | ... |  3  | 5   | 6   | 3   | 3   | 4   | 2   | 3   | 2   | 1   | \n",
       "| 0   | 1   | 1   | 3   | 3   | 1   | 3   | 5   | 2   | 4   | ... |  9  | 6   | 3   | 2   | 2   | 4   | 2   | 0   | 1   | 1   | \n",
       "| 0   | 0   | 1   | 2   | 2   | 4   | 2   | 1   | 6   | 4   | ... |  8  | 4   | 7   | 3   | 5   | 4   | 4   | 3   | 2   | 1   | \n",
       "\n",
       "\n"
      ],
      "text/plain": [
       "  V1 V2 V3 V4 V5 V6 V7 V8 V9 V10 ... V31 V32 V33 V34 V35 V36 V37 V38 V39 V40\n",
       "1 0  0  1  3  1  2  4  7  8  3   ...  4  4   5   7   3   4   2   3   0   0  \n",
       "2 0  1  2  1  2  1  3  2  2  6   ...  3  5   4   4   5   5   1   1   0   1  \n",
       "3 0  1  1  3  3  2  6  2  5  9   ... 10  5   4   2   2   3   2   2   1   1  \n",
       "4 0  0  2  0  4  2  2  1  6  7   ...  3  5   6   3   3   4   2   3   2   1  \n",
       "5 0  1  1  3  3  1  3  5  2  4   ...  9  6   3   2   2   4   2   0   1   1  \n",
       "6 0  0  1  2  2  4  2  1  6  4   ...  8  4   7   3   5   4   4   3   2   1  "
      ]
     },
     "metadata": {},
     "output_type": "display_data"
    }
   ],
   "source": [
    "head(df)"
   ]
  },
  {
   "cell_type": "markdown",
   "metadata": {},
   "source": [
    "### Display tail (last 6 rows) of df"
   ]
  },
  {
   "cell_type": "code",
   "execution_count": 41,
   "metadata": {},
   "outputs": [
    {
     "data": {
      "text/html": [
       "<table>\n",
       "<thead><tr><th></th><th scope=col>V1</th><th scope=col>V2</th><th scope=col>V3</th><th scope=col>V4</th><th scope=col>V5</th><th scope=col>V6</th><th scope=col>V7</th><th scope=col>V8</th><th scope=col>V9</th><th scope=col>V10</th><th scope=col>...</th><th scope=col>V31</th><th scope=col>V32</th><th scope=col>V33</th><th scope=col>V34</th><th scope=col>V35</th><th scope=col>V36</th><th scope=col>V37</th><th scope=col>V38</th><th scope=col>V39</th><th scope=col>V40</th></tr></thead>\n",
       "<tbody>\n",
       "\t<tr><th scope=row>55</th><td>0  </td><td>1  </td><td>2  </td><td>1  </td><td>1  </td><td>4  </td><td>5  </td><td>4  </td><td>4  </td><td>5  </td><td>...</td><td> 4 </td><td>5  </td><td>5  </td><td>2  </td><td>2  </td><td>5  </td><td>1  </td><td>0  </td><td>0  </td><td>1  </td></tr>\n",
       "\t<tr><th scope=row>56</th><td>0  </td><td>0  </td><td>1  </td><td>3  </td><td>2  </td><td>3  </td><td>6  </td><td>4  </td><td>5  </td><td>7  </td><td>...</td><td> 3 </td><td>5  </td><td>3  </td><td>5  </td><td>4  </td><td>5  </td><td>3  </td><td>3  </td><td>0  </td><td>1  </td></tr>\n",
       "\t<tr><th scope=row>57</th><td>0  </td><td>1  </td><td>1  </td><td>2  </td><td>2  </td><td>5  </td><td>1  </td><td>7  </td><td>4  </td><td>2  </td><td>...</td><td> 7 </td><td>7  </td><td>5  </td><td>6  </td><td>3  </td><td>4  </td><td>2  </td><td>2  </td><td>1  </td><td>1  </td></tr>\n",
       "\t<tr><th scope=row>58</th><td>0  </td><td>1  </td><td>1  </td><td>1  </td><td>4  </td><td>1  </td><td>6  </td><td>4  </td><td>6  </td><td>3  </td><td>...</td><td> 8 </td><td>6  </td><td>6  </td><td>4  </td><td>3  </td><td>5  </td><td>2  </td><td>1  </td><td>1  </td><td>1  </td></tr>\n",
       "\t<tr><th scope=row>59</th><td>0  </td><td>0  </td><td>0  </td><td>1  </td><td>4  </td><td>5  </td><td>6  </td><td>3  </td><td>8  </td><td>7  </td><td>...</td><td>10 </td><td>8  </td><td>8  </td><td>6  </td><td>5  </td><td>5  </td><td>2  </td><td>0  </td><td>2  </td><td>0  </td></tr>\n",
       "\t<tr><th scope=row>60</th><td>0  </td><td>0  </td><td>1  </td><td>0  </td><td>3  </td><td>2  </td><td>5  </td><td>4  </td><td>8  </td><td>2  </td><td>...</td><td> 8 </td><td>5  </td><td>3  </td><td>5  </td><td>4  </td><td>1  </td><td>3  </td><td>1  </td><td>1  </td><td>0  </td></tr>\n",
       "</tbody>\n",
       "</table>\n"
      ],
      "text/latex": [
       "\\begin{tabular}{r|llllllllllllllllllllllllllllllllllllllll}\n",
       "  & V1 & V2 & V3 & V4 & V5 & V6 & V7 & V8 & V9 & V10 & ... & V31 & V32 & V33 & V34 & V35 & V36 & V37 & V38 & V39 & V40\\\\\n",
       "\\hline\n",
       "\t55 & 0   & 1   & 2   & 1   & 1   & 4   & 5   & 4   & 4   & 5   & ... &  4  & 5   & 5   & 2   & 2   & 5   & 1   & 0   & 0   & 1  \\\\\n",
       "\t56 & 0   & 0   & 1   & 3   & 2   & 3   & 6   & 4   & 5   & 7   & ... &  3  & 5   & 3   & 5   & 4   & 5   & 3   & 3   & 0   & 1  \\\\\n",
       "\t57 & 0   & 1   & 1   & 2   & 2   & 5   & 1   & 7   & 4   & 2   & ... &  7  & 7   & 5   & 6   & 3   & 4   & 2   & 2   & 1   & 1  \\\\\n",
       "\t58 & 0   & 1   & 1   & 1   & 4   & 1   & 6   & 4   & 6   & 3   & ... &  8  & 6   & 6   & 4   & 3   & 5   & 2   & 1   & 1   & 1  \\\\\n",
       "\t59 & 0   & 0   & 0   & 1   & 4   & 5   & 6   & 3   & 8   & 7   & ... & 10  & 8   & 8   & 6   & 5   & 5   & 2   & 0   & 2   & 0  \\\\\n",
       "\t60 & 0   & 0   & 1   & 0   & 3   & 2   & 5   & 4   & 8   & 2   & ... &  8  & 5   & 3   & 5   & 4   & 1   & 3   & 1   & 1   & 0  \\\\\n",
       "\\end{tabular}\n"
      ],
      "text/markdown": [
       "\n",
       "| <!--/--> | V1 | V2 | V3 | V4 | V5 | V6 | V7 | V8 | V9 | V10 | ... | V31 | V32 | V33 | V34 | V35 | V36 | V37 | V38 | V39 | V40 | \n",
       "|---|---|---|---|---|---|\n",
       "| 55 | 0   | 1   | 2   | 1   | 1   | 4   | 5   | 4   | 4   | 5   | ... |  4  | 5   | 5   | 2   | 2   | 5   | 1   | 0   | 0   | 1   | \n",
       "| 56 | 0   | 0   | 1   | 3   | 2   | 3   | 6   | 4   | 5   | 7   | ... |  3  | 5   | 3   | 5   | 4   | 5   | 3   | 3   | 0   | 1   | \n",
       "| 57 | 0   | 1   | 1   | 2   | 2   | 5   | 1   | 7   | 4   | 2   | ... |  7  | 7   | 5   | 6   | 3   | 4   | 2   | 2   | 1   | 1   | \n",
       "| 58 | 0   | 1   | 1   | 1   | 4   | 1   | 6   | 4   | 6   | 3   | ... |  8  | 6   | 6   | 4   | 3   | 5   | 2   | 1   | 1   | 1   | \n",
       "| 59 | 0   | 0   | 0   | 1   | 4   | 5   | 6   | 3   | 8   | 7   | ... | 10  | 8   | 8   | 6   | 5   | 5   | 2   | 0   | 2   | 0   | \n",
       "| 60 | 0   | 0   | 1   | 0   | 3   | 2   | 5   | 4   | 8   | 2   | ... |  8  | 5   | 3   | 5   | 4   | 1   | 3   | 1   | 1   | 0   | \n",
       "\n",
       "\n"
      ],
      "text/plain": [
       "   V1 V2 V3 V4 V5 V6 V7 V8 V9 V10 ... V31 V32 V33 V34 V35 V36 V37 V38 V39 V40\n",
       "55 0  1  2  1  1  4  5  4  4  5   ...  4  5   5   2   2   5   1   0   0   1  \n",
       "56 0  0  1  3  2  3  6  4  5  7   ...  3  5   3   5   4   5   3   3   0   1  \n",
       "57 0  1  1  2  2  5  1  7  4  2   ...  7  7   5   6   3   4   2   2   1   1  \n",
       "58 0  1  1  1  4  1  6  4  6  3   ...  8  6   6   4   3   5   2   1   1   1  \n",
       "59 0  0  0  1  4  5  6  3  8  7   ... 10  8   8   6   5   5   2   0   2   0  \n",
       "60 0  0  1  0  3  2  5  4  8  2   ...  8  5   3   5   4   1   3   1   1   0  "
      ]
     },
     "metadata": {},
     "output_type": "display_data"
    }
   ],
   "source": [
    "tail(df)"
   ]
  },
  {
   "cell_type": "markdown",
   "metadata": {},
   "source": [
    "### Display the type of variable"
   ]
  },
  {
   "cell_type": "code",
   "execution_count": 43,
   "metadata": {},
   "outputs": [
    {
     "data": {
      "text/html": [
       "'data.frame'"
      ],
      "text/latex": [
       "'data.frame'"
      ],
      "text/markdown": [
       "'data.frame'"
      ],
      "text/plain": [
       "[1] \"data.frame\""
      ]
     },
     "metadata": {},
     "output_type": "display_data"
    },
    {
     "data": {
      "text/html": [
       "'numeric'"
      ],
      "text/latex": [
       "'numeric'"
      ],
      "text/markdown": [
       "'numeric'"
      ],
      "text/plain": [
       "[1] \"numeric\""
      ]
     },
     "metadata": {},
     "output_type": "display_data"
    },
    {
     "data": {
      "text/html": [
       "'character'"
      ],
      "text/latex": [
       "'character'"
      ],
      "text/markdown": [
       "'character'"
      ],
      "text/plain": [
       "[1] \"character\""
      ]
     },
     "metadata": {},
     "output_type": "display_data"
    }
   ],
   "source": [
    "class(df)\n",
    "class(10)\n",
    "class(\"hello world\")"
   ]
  },
  {
   "cell_type": "markdown",
   "metadata": {},
   "source": [
    "### Display the dimension/shape of df"
   ]
  },
  {
   "cell_type": "code",
   "execution_count": 52,
   "metadata": {},
   "outputs": [
    {
     "data": {
      "text/html": [
       "<ol class=list-inline>\n",
       "\t<li>60</li>\n",
       "\t<li>40</li>\n",
       "</ol>\n"
      ],
      "text/latex": [
       "\\begin{enumerate*}\n",
       "\\item 60\n",
       "\\item 40\n",
       "\\end{enumerate*}\n"
      ],
      "text/markdown": [
       "1. 60\n",
       "2. 40\n",
       "\n",
       "\n"
      ],
      "text/plain": [
       "[1] 60 40"
      ]
     },
     "metadata": {},
     "output_type": "display_data"
    },
    {
     "data": {
      "text/plain": [
       "NULL"
      ]
     },
     "metadata": {},
     "output_type": "display_data"
    },
    {
     "data": {
      "text/plain": [
       "NULL"
      ]
     },
     "metadata": {},
     "output_type": "display_data"
    },
    {
     "data": {
      "text/html": [
       "60"
      ],
      "text/latex": [
       "60"
      ],
      "text/markdown": [
       "60"
      ],
      "text/plain": [
       "[1] 60"
      ]
     },
     "metadata": {},
     "output_type": "display_data"
    },
    {
     "data": {
      "text/html": [
       "40"
      ],
      "text/latex": [
       "40"
      ],
      "text/markdown": [
       "40"
      ],
      "text/plain": [
       "[1] 40"
      ]
     },
     "metadata": {},
     "output_type": "display_data"
    },
    {
     "data": {
      "text/html": [
       "'integer'"
      ],
      "text/latex": [
       "'integer'"
      ],
      "text/markdown": [
       "'integer'"
      ],
      "text/plain": [
       "[1] \"integer\""
      ]
     },
     "metadata": {},
     "output_type": "display_data"
    },
    {
     "data": {
      "text/html": [
       "'integer'"
      ],
      "text/latex": [
       "'integer'"
      ],
      "text/markdown": [
       "'integer'"
      ],
      "text/plain": [
       "[1] \"integer\""
      ]
     },
     "metadata": {},
     "output_type": "display_data"
    }
   ],
   "source": [
    "dim(df)\n",
    "dim(10)\n",
    "dim(\"hello world\")\n",
    "\n",
    "dim(df)[1]\n",
    "dim(df)[2]\n",
    "\n",
    "class(dim(df))\n",
    "class(dim(df)[0]) # should be returned as error but not "
   ]
  },
  {
   "cell_type": "markdown",
   "metadata": {},
   "source": [
    "### Display elements of dataframe df"
   ]
  },
  {
   "cell_type": "code",
   "execution_count": 63,
   "metadata": {},
   "outputs": [
    {
     "data": {
      "text/html": [
       "<table>\n",
       "<thead><tr><th scope=col>V10</th></tr></thead>\n",
       "<tbody>\n",
       "\t<tr><td>3</td></tr>\n",
       "\t<tr><td>6</td></tr>\n",
       "\t<tr><td>9</td></tr>\n",
       "\t<tr><td>7</td></tr>\n",
       "\t<tr><td>4</td></tr>\n",
       "\t<tr><td>4</td></tr>\n",
       "</tbody>\n",
       "</table>\n"
      ],
      "text/latex": [
       "\\begin{tabular}{r|l}\n",
       " V10\\\\\n",
       "\\hline\n",
       "\t 3\\\\\n",
       "\t 6\\\\\n",
       "\t 9\\\\\n",
       "\t 7\\\\\n",
       "\t 4\\\\\n",
       "\t 4\\\\\n",
       "\\end{tabular}\n"
      ],
      "text/markdown": [
       "\n",
       "V10 | \n",
       "|---|---|---|---|---|---|\n",
       "| 3 | \n",
       "| 6 | \n",
       "| 9 | \n",
       "| 7 | \n",
       "| 4 | \n",
       "| 4 | \n",
       "\n",
       "\n"
      ],
      "text/plain": [
       "  V10\n",
       "1 3  \n",
       "2 6  \n",
       "3 9  \n",
       "4 7  \n",
       "5 4  \n",
       "6 4  "
      ]
     },
     "metadata": {},
     "output_type": "display_data"
    }
   ],
   "source": [
    "head(df[10]) #display column 10 (head-only) as a dataframe"
   ]
  },
  {
   "cell_type": "code",
   "execution_count": 71,
   "metadata": {},
   "outputs": [
    {
     "data": {
      "text/html": [
       "<ol class=list-inline>\n",
       "\t<li>3</li>\n",
       "\t<li>6</li>\n",
       "\t<li>9</li>\n",
       "\t<li>7</li>\n",
       "\t<li>4</li>\n",
       "\t<li>4</li>\n",
       "\t<li>8</li>\n",
       "\t<li>3</li>\n",
       "\t<li>8</li>\n",
       "\t<li>8</li>\n",
       "\t<li>4</li>\n",
       "\t<li>5</li>\n",
       "\t<li>7</li>\n",
       "\t<li>5</li>\n",
       "\t<li>2</li>\n",
       "\t<li>4</li>\n",
       "\t<li>4</li>\n",
       "\t<li>7</li>\n",
       "\t<li>8</li>\n",
       "\t<li>7</li>\n",
       "\t<li>2</li>\n",
       "\t<li>8</li>\n",
       "\t<li>8</li>\n",
       "\t<li>3</li>\n",
       "\t<li>3</li>\n",
       "\t<li>4</li>\n",
       "\t<li>7</li>\n",
       "\t<li>2</li>\n",
       "\t<li>6</li>\n",
       "\t<li>6</li>\n",
       "\t<li>6</li>\n",
       "\t<li>7</li>\n",
       "\t<li>7</li>\n",
       "\t<li>8</li>\n",
       "\t<li>3</li>\n",
       "\t<li>4</li>\n",
       "\t<li>6</li>\n",
       "\t<li>2</li>\n",
       "\t<li>9</li>\n",
       "\t<li>7</li>\n",
       "\t<li>5</li>\n",
       "\t<li>9</li>\n",
       "\t<li>7</li>\n",
       "\t<li>8</li>\n",
       "\t<li>4</li>\n",
       "\t<li>9</li>\n",
       "\t<li>9</li>\n",
       "\t<li>2</li>\n",
       "\t<li>6</li>\n",
       "\t<li>4</li>\n",
       "\t<li>3</li>\n",
       "\t<li>6</li>\n",
       "\t<li>3</li>\n",
       "\t<li>9</li>\n",
       "\t<li>5</li>\n",
       "\t<li>7</li>\n",
       "\t<li>2</li>\n",
       "\t<li>3</li>\n",
       "\t<li>7</li>\n",
       "\t<li>2</li>\n",
       "</ol>\n"
      ],
      "text/latex": [
       "\\begin{enumerate*}\n",
       "\\item 3\n",
       "\\item 6\n",
       "\\item 9\n",
       "\\item 7\n",
       "\\item 4\n",
       "\\item 4\n",
       "\\item 8\n",
       "\\item 3\n",
       "\\item 8\n",
       "\\item 8\n",
       "\\item 4\n",
       "\\item 5\n",
       "\\item 7\n",
       "\\item 5\n",
       "\\item 2\n",
       "\\item 4\n",
       "\\item 4\n",
       "\\item 7\n",
       "\\item 8\n",
       "\\item 7\n",
       "\\item 2\n",
       "\\item 8\n",
       "\\item 8\n",
       "\\item 3\n",
       "\\item 3\n",
       "\\item 4\n",
       "\\item 7\n",
       "\\item 2\n",
       "\\item 6\n",
       "\\item 6\n",
       "\\item 6\n",
       "\\item 7\n",
       "\\item 7\n",
       "\\item 8\n",
       "\\item 3\n",
       "\\item 4\n",
       "\\item 6\n",
       "\\item 2\n",
       "\\item 9\n",
       "\\item 7\n",
       "\\item 5\n",
       "\\item 9\n",
       "\\item 7\n",
       "\\item 8\n",
       "\\item 4\n",
       "\\item 9\n",
       "\\item 9\n",
       "\\item 2\n",
       "\\item 6\n",
       "\\item 4\n",
       "\\item 3\n",
       "\\item 6\n",
       "\\item 3\n",
       "\\item 9\n",
       "\\item 5\n",
       "\\item 7\n",
       "\\item 2\n",
       "\\item 3\n",
       "\\item 7\n",
       "\\item 2\n",
       "\\end{enumerate*}\n"
      ],
      "text/markdown": [
       "1. 3\n",
       "2. 6\n",
       "3. 9\n",
       "4. 7\n",
       "5. 4\n",
       "6. 4\n",
       "7. 8\n",
       "8. 3\n",
       "9. 8\n",
       "10. 8\n",
       "11. 4\n",
       "12. 5\n",
       "13. 7\n",
       "14. 5\n",
       "15. 2\n",
       "16. 4\n",
       "17. 4\n",
       "18. 7\n",
       "19. 8\n",
       "20. 7\n",
       "21. 2\n",
       "22. 8\n",
       "23. 8\n",
       "24. 3\n",
       "25. 3\n",
       "26. 4\n",
       "27. 7\n",
       "28. 2\n",
       "29. 6\n",
       "30. 6\n",
       "31. 6\n",
       "32. 7\n",
       "33. 7\n",
       "34. 8\n",
       "35. 3\n",
       "36. 4\n",
       "37. 6\n",
       "38. 2\n",
       "39. 9\n",
       "40. 7\n",
       "41. 5\n",
       "42. 9\n",
       "43. 7\n",
       "44. 8\n",
       "45. 4\n",
       "46. 9\n",
       "47. 9\n",
       "48. 2\n",
       "49. 6\n",
       "50. 4\n",
       "51. 3\n",
       "52. 6\n",
       "53. 3\n",
       "54. 9\n",
       "55. 5\n",
       "56. 7\n",
       "57. 2\n",
       "58. 3\n",
       "59. 7\n",
       "60. 2\n",
       "\n",
       "\n"
      ],
      "text/plain": [
       " [1] 3 6 9 7 4 4 8 3 8 8 4 5 7 5 2 4 4 7 8 7 2 8 8 3 3 4 7 2 6 6 6 7 7 8 3 4 6 2\n",
       "[39] 9 7 5 9 7 8 4 9 9 2 6 4 3 6 3 9 5 7 2 3 7 2"
      ]
     },
     "metadata": {},
     "output_type": "display_data"
    },
    {
     "data": {
      "text/html": [
       "<ol class=list-inline>\n",
       "\t<li>3</li>\n",
       "\t<li>6</li>\n",
       "\t<li>9</li>\n",
       "\t<li>7</li>\n",
       "\t<li>4</li>\n",
       "\t<li>4</li>\n",
       "\t<li>8</li>\n",
       "\t<li>3</li>\n",
       "\t<li>8</li>\n",
       "\t<li>8</li>\n",
       "\t<li>4</li>\n",
       "\t<li>5</li>\n",
       "\t<li>7</li>\n",
       "\t<li>5</li>\n",
       "\t<li>2</li>\n",
       "\t<li>4</li>\n",
       "\t<li>4</li>\n",
       "\t<li>7</li>\n",
       "\t<li>8</li>\n",
       "\t<li>7</li>\n",
       "\t<li>2</li>\n",
       "\t<li>8</li>\n",
       "\t<li>8</li>\n",
       "\t<li>3</li>\n",
       "\t<li>3</li>\n",
       "\t<li>4</li>\n",
       "\t<li>7</li>\n",
       "\t<li>2</li>\n",
       "\t<li>6</li>\n",
       "\t<li>6</li>\n",
       "\t<li>6</li>\n",
       "\t<li>7</li>\n",
       "\t<li>7</li>\n",
       "\t<li>8</li>\n",
       "\t<li>3</li>\n",
       "\t<li>4</li>\n",
       "\t<li>6</li>\n",
       "\t<li>2</li>\n",
       "\t<li>9</li>\n",
       "\t<li>7</li>\n",
       "\t<li>5</li>\n",
       "\t<li>9</li>\n",
       "\t<li>7</li>\n",
       "\t<li>8</li>\n",
       "\t<li>4</li>\n",
       "\t<li>9</li>\n",
       "\t<li>9</li>\n",
       "\t<li>2</li>\n",
       "\t<li>6</li>\n",
       "\t<li>4</li>\n",
       "\t<li>3</li>\n",
       "\t<li>6</li>\n",
       "\t<li>3</li>\n",
       "\t<li>9</li>\n",
       "\t<li>5</li>\n",
       "\t<li>7</li>\n",
       "\t<li>2</li>\n",
       "\t<li>3</li>\n",
       "\t<li>7</li>\n",
       "\t<li>2</li>\n",
       "</ol>\n"
      ],
      "text/latex": [
       "\\begin{enumerate*}\n",
       "\\item 3\n",
       "\\item 6\n",
       "\\item 9\n",
       "\\item 7\n",
       "\\item 4\n",
       "\\item 4\n",
       "\\item 8\n",
       "\\item 3\n",
       "\\item 8\n",
       "\\item 8\n",
       "\\item 4\n",
       "\\item 5\n",
       "\\item 7\n",
       "\\item 5\n",
       "\\item 2\n",
       "\\item 4\n",
       "\\item 4\n",
       "\\item 7\n",
       "\\item 8\n",
       "\\item 7\n",
       "\\item 2\n",
       "\\item 8\n",
       "\\item 8\n",
       "\\item 3\n",
       "\\item 3\n",
       "\\item 4\n",
       "\\item 7\n",
       "\\item 2\n",
       "\\item 6\n",
       "\\item 6\n",
       "\\item 6\n",
       "\\item 7\n",
       "\\item 7\n",
       "\\item 8\n",
       "\\item 3\n",
       "\\item 4\n",
       "\\item 6\n",
       "\\item 2\n",
       "\\item 9\n",
       "\\item 7\n",
       "\\item 5\n",
       "\\item 9\n",
       "\\item 7\n",
       "\\item 8\n",
       "\\item 4\n",
       "\\item 9\n",
       "\\item 9\n",
       "\\item 2\n",
       "\\item 6\n",
       "\\item 4\n",
       "\\item 3\n",
       "\\item 6\n",
       "\\item 3\n",
       "\\item 9\n",
       "\\item 5\n",
       "\\item 7\n",
       "\\item 2\n",
       "\\item 3\n",
       "\\item 7\n",
       "\\item 2\n",
       "\\end{enumerate*}\n"
      ],
      "text/markdown": [
       "1. 3\n",
       "2. 6\n",
       "3. 9\n",
       "4. 7\n",
       "5. 4\n",
       "6. 4\n",
       "7. 8\n",
       "8. 3\n",
       "9. 8\n",
       "10. 8\n",
       "11. 4\n",
       "12. 5\n",
       "13. 7\n",
       "14. 5\n",
       "15. 2\n",
       "16. 4\n",
       "17. 4\n",
       "18. 7\n",
       "19. 8\n",
       "20. 7\n",
       "21. 2\n",
       "22. 8\n",
       "23. 8\n",
       "24. 3\n",
       "25. 3\n",
       "26. 4\n",
       "27. 7\n",
       "28. 2\n",
       "29. 6\n",
       "30. 6\n",
       "31. 6\n",
       "32. 7\n",
       "33. 7\n",
       "34. 8\n",
       "35. 3\n",
       "36. 4\n",
       "37. 6\n",
       "38. 2\n",
       "39. 9\n",
       "40. 7\n",
       "41. 5\n",
       "42. 9\n",
       "43. 7\n",
       "44. 8\n",
       "45. 4\n",
       "46. 9\n",
       "47. 9\n",
       "48. 2\n",
       "49. 6\n",
       "50. 4\n",
       "51. 3\n",
       "52. 6\n",
       "53. 3\n",
       "54. 9\n",
       "55. 5\n",
       "56. 7\n",
       "57. 2\n",
       "58. 3\n",
       "59. 7\n",
       "60. 2\n",
       "\n",
       "\n"
      ],
      "text/plain": [
       " [1] 3 6 9 7 4 4 8 3 8 8 4 5 7 5 2 4 4 7 8 7 2 8 8 3 3 4 7 2 6 6 6 7 7 8 3 4 6 2\n",
       "[39] 9 7 5 9 7 8 4 9 9 2 6 4 3 6 3 9 5 7 2 3 7 2"
      ]
     },
     "metadata": {},
     "output_type": "display_data"
    }
   ],
   "source": [
    "#display column 10 as an array\n",
    "df[,10]\n",
    "df$V10"
   ]
  },
  {
   "cell_type": "code",
   "execution_count": 66,
   "metadata": {},
   "outputs": [
    {
     "data": {
      "text/html": [
       "<table>\n",
       "<thead><tr><th></th><th scope=col>V1</th><th scope=col>V2</th><th scope=col>V3</th><th scope=col>V4</th><th scope=col>V5</th><th scope=col>V6</th><th scope=col>V7</th><th scope=col>V8</th><th scope=col>V9</th><th scope=col>V10</th><th scope=col>...</th><th scope=col>V31</th><th scope=col>V32</th><th scope=col>V33</th><th scope=col>V34</th><th scope=col>V35</th><th scope=col>V36</th><th scope=col>V37</th><th scope=col>V38</th><th scope=col>V39</th><th scope=col>V40</th></tr></thead>\n",
       "<tbody>\n",
       "\t<tr><th scope=row>5</th><td>0  </td><td>1  </td><td>1  </td><td>3  </td><td>3  </td><td>1  </td><td>3  </td><td>5  </td><td>2  </td><td>4  </td><td>...</td><td>9  </td><td>6  </td><td>3  </td><td>2  </td><td>2  </td><td>4  </td><td>2  </td><td>0  </td><td>1  </td><td>1  </td></tr>\n",
       "</tbody>\n",
       "</table>\n"
      ],
      "text/latex": [
       "\\begin{tabular}{r|llllllllllllllllllllllllllllllllllllllll}\n",
       "  & V1 & V2 & V3 & V4 & V5 & V6 & V7 & V8 & V9 & V10 & ... & V31 & V32 & V33 & V34 & V35 & V36 & V37 & V38 & V39 & V40\\\\\n",
       "\\hline\n",
       "\t5 & 0   & 1   & 1   & 3   & 3   & 1   & 3   & 5   & 2   & 4   & ... & 9   & 6   & 3   & 2   & 2   & 4   & 2   & 0   & 1   & 1  \\\\\n",
       "\\end{tabular}\n"
      ],
      "text/markdown": [
       "\n",
       "| <!--/--> | V1 | V2 | V3 | V4 | V5 | V6 | V7 | V8 | V9 | V10 | ... | V31 | V32 | V33 | V34 | V35 | V36 | V37 | V38 | V39 | V40 | \n",
       "|---|\n",
       "| 5 | 0   | 1   | 1   | 3   | 3   | 1   | 3   | 5   | 2   | 4   | ... | 9   | 6   | 3   | 2   | 2   | 4   | 2   | 0   | 1   | 1   | \n",
       "\n",
       "\n"
      ],
      "text/plain": [
       "  V1 V2 V3 V4 V5 V6 V7 V8 V9 V10 ... V31 V32 V33 V34 V35 V36 V37 V38 V39 V40\n",
       "5 0  1  1  3  3  1  3  5  2  4   ... 9   6   3   2   2   4   2   0   1   1  "
      ]
     },
     "metadata": {},
     "output_type": "display_data"
    }
   ],
   "source": [
    "df[5,] #display 5th row"
   ]
  },
  {
   "cell_type": "code",
   "execution_count": 67,
   "metadata": {},
   "outputs": [
    {
     "data": {
      "text/html": [
       "0"
      ],
      "text/latex": [
       "0"
      ],
      "text/markdown": [
       "0"
      ],
      "text/plain": [
       "[1] 0"
      ]
     },
     "metadata": {},
     "output_type": "display_data"
    }
   ],
   "source": [
    "df[1,1] #display element in 1st row and 1st column"
   ]
  },
  {
   "cell_type": "code",
   "execution_count": 68,
   "metadata": {},
   "outputs": [
    {
     "data": {
      "text/html": [
       "<table>\n",
       "<thead><tr><th></th><th scope=col>V10</th><th scope=col>V20</th></tr></thead>\n",
       "<tbody>\n",
       "\t<tr><th scope=row>1</th><td>3 </td><td>18</td></tr>\n",
       "\t<tr><th scope=row>3</th><td>9 </td><td>10</td></tr>\n",
       "\t<tr><th scope=row>5</th><td>4 </td><td>17</td></tr>\n",
       "</tbody>\n",
       "</table>\n"
      ],
      "text/latex": [
       "\\begin{tabular}{r|ll}\n",
       "  & V10 & V20\\\\\n",
       "\\hline\n",
       "\t1 & 3  & 18\\\\\n",
       "\t3 & 9  & 10\\\\\n",
       "\t5 & 4  & 17\\\\\n",
       "\\end{tabular}\n"
      ],
      "text/markdown": [
       "\n",
       "| <!--/--> | V10 | V20 | \n",
       "|---|---|---|\n",
       "| 1 | 3  | 18 | \n",
       "| 3 | 9  | 10 | \n",
       "| 5 | 4  | 17 | \n",
       "\n",
       "\n"
      ],
      "text/plain": [
       "  V10 V20\n",
       "1 3   18 \n",
       "3 9   10 \n",
       "5 4   17 "
      ]
     },
     "metadata": {},
     "output_type": "display_data"
    }
   ],
   "source": [
    "df[c(1,3,5), c(10,20)] "
   ]
  },
  {
   "cell_type": "markdown",
   "metadata": {},
   "source": [
    "----\n",
    "## Make an array"
   ]
  },
  {
   "cell_type": "code",
   "execution_count": 82,
   "metadata": {},
   "outputs": [
    {
     "data": {
      "text/html": [
       "<ol class=list-inline>\n",
       "\t<li>1</li>\n",
       "\t<li>2</li>\n",
       "\t<li>3</li>\n",
       "\t<li>4</li>\n",
       "\t<li>5</li>\n",
       "</ol>\n"
      ],
      "text/latex": [
       "\\begin{enumerate*}\n",
       "\\item 1\n",
       "\\item 2\n",
       "\\item 3\n",
       "\\item 4\n",
       "\\item 5\n",
       "\\end{enumerate*}\n"
      ],
      "text/markdown": [
       "1. 1\n",
       "2. 2\n",
       "3. 3\n",
       "4. 4\n",
       "5. 5\n",
       "\n",
       "\n"
      ],
      "text/plain": [
       "[1] 1 2 3 4 5"
      ]
     },
     "metadata": {},
     "output_type": "display_data"
    }
   ],
   "source": [
    "1:5  #same with numpy.arange(1,5)"
   ]
  },
  {
   "cell_type": "markdown",
   "metadata": {},
   "source": [
    "---\n",
    "## Hands-on"
   ]
  },
  {
   "cell_type": "code",
   "execution_count": 98,
   "metadata": {},
   "outputs": [
    {
     "data": {
      "text/html": [
       "18"
      ],
      "text/latex": [
       "18"
      ],
      "text/markdown": [
       "18"
      ],
      "text/plain": [
       "[1] 18"
      ]
     },
     "metadata": {},
     "output_type": "display_data"
    },
    {
     "data": {
      "text/html": [
       "0"
      ],
      "text/latex": [
       "0"
      ],
      "text/markdown": [
       "0"
      ],
      "text/plain": [
       "[1] 0"
      ]
     },
     "metadata": {},
     "output_type": "display_data"
    },
    {
     "data": {
      "text/html": [
       "5.45"
      ],
      "text/latex": [
       "5.45"
      ],
      "text/markdown": [
       "5.45"
      ],
      "text/plain": [
       "[1] 5.45"
      ]
     },
     "metadata": {},
     "output_type": "display_data"
    },
    {
     "data": {
      "text/html": [
       "4.5"
      ],
      "text/latex": [
       "4.5"
      ],
      "text/markdown": [
       "4.5"
      ],
      "text/plain": [
       "[1] 4.5"
      ]
     },
     "metadata": {},
     "output_type": "display_data"
    },
    {
     "data": {
      "text/html": [
       "3.94806021828182"
      ],
      "text/latex": [
       "3.94806021828182"
      ],
      "text/markdown": [
       "3.94806021828182"
      ],
      "text/plain": [
       "[1] 3.94806"
      ]
     },
     "metadata": {},
     "output_type": "display_data"
    },
    {
     "data": {
      "text/plain": [
       "   Min. 1st Qu.  Median    Mean 3rd Qu.    Max. \n",
       "   0.00    3.00    4.50    5.45    7.00   18.00 "
      ]
     },
     "metadata": {},
     "output_type": "display_data"
    }
   ],
   "source": [
    "patient1 = df[1, ]\n",
    "patient1 = as.integer(patient1)   # convert patient1 from dataframe to integer array\n",
    "max(patient1)       #maximum value\n",
    "min(patient1)       #minimum value\n",
    "mean(patient1)      #mean\n",
    "median(patient1)    #median\n",
    "sd(patient1)        #standard deviation\n",
    "summary(patient1)   #summary of several statistical properties"
   ]
  },
  {
   "cell_type": "code",
   "execution_count": 99,
   "metadata": {},
   "outputs": [
    {
     "data": {
      "text/html": [
       "20"
      ],
      "text/latex": [
       "20"
      ],
      "text/markdown": [
       "20"
      ],
      "text/plain": [
       "[1] 20"
      ]
     },
     "metadata": {},
     "output_type": "display_data"
    }
   ],
   "source": [
    "which(patient1 == max(patient1))   #location of maximum value, same with numpy.where"
   ]
  },
  {
   "cell_type": "code",
   "execution_count": 110,
   "metadata": {},
   "outputs": [
    {
     "data": {
      "text/html": [
       "18"
      ],
      "text/latex": [
       "18"
      ],
      "text/markdown": [
       "18"
      ],
      "text/plain": [
       "[1] 18"
      ]
     },
     "metadata": {},
     "output_type": "display_data"
    }
   ],
   "source": [
    "patient1[which(patient1 == max(patient1))]"
   ]
  },
  {
   "cell_type": "code",
   "execution_count": 121,
   "metadata": {},
   "outputs": [
    {
     "data": {
      "text/html": [
       "<dl class=dl-horizontal>\n",
       "\t<dt>V1</dt>\n",
       "\t\t<dd>0</dd>\n",
       "\t<dt>V2</dt>\n",
       "\t\t<dd>0.45</dd>\n",
       "\t<dt>V3</dt>\n",
       "\t\t<dd>1.11666666666667</dd>\n",
       "\t<dt>V4</dt>\n",
       "\t\t<dd>1.75</dd>\n",
       "\t<dt>V5</dt>\n",
       "\t\t<dd>2.43333333333333</dd>\n",
       "\t<dt>V6</dt>\n",
       "\t\t<dd>3.15</dd>\n",
       "\t<dt>V7</dt>\n",
       "\t\t<dd>3.8</dd>\n",
       "\t<dt>V8</dt>\n",
       "\t\t<dd>3.88333333333333</dd>\n",
       "\t<dt>V9</dt>\n",
       "\t\t<dd>5.23333333333333</dd>\n",
       "\t<dt>V10</dt>\n",
       "\t\t<dd>5.51666666666667</dd>\n",
       "\t<dt>V11</dt>\n",
       "\t\t<dd>5.95</dd>\n",
       "\t<dt>V12</dt>\n",
       "\t\t<dd>5.9</dd>\n",
       "\t<dt>V13</dt>\n",
       "\t\t<dd>8.35</dd>\n",
       "\t<dt>V14</dt>\n",
       "\t\t<dd>7.73333333333333</dd>\n",
       "\t<dt>V15</dt>\n",
       "\t\t<dd>8.36666666666667</dd>\n",
       "\t<dt>V16</dt>\n",
       "\t\t<dd>9.5</dd>\n",
       "\t<dt>V17</dt>\n",
       "\t\t<dd>9.58333333333333</dd>\n",
       "\t<dt>V18</dt>\n",
       "\t\t<dd>10.6333333333333</dd>\n",
       "\t<dt>V19</dt>\n",
       "\t\t<dd>11.5666666666667</dd>\n",
       "\t<dt>V20</dt>\n",
       "\t\t<dd>12.35</dd>\n",
       "\t<dt>V21</dt>\n",
       "\t\t<dd>13.25</dd>\n",
       "\t<dt>V22</dt>\n",
       "\t\t<dd>11.9666666666667</dd>\n",
       "\t<dt>V23</dt>\n",
       "\t\t<dd>11.0333333333333</dd>\n",
       "\t<dt>V24</dt>\n",
       "\t\t<dd>10.1666666666667</dd>\n",
       "\t<dt>V25</dt>\n",
       "\t\t<dd>10</dd>\n",
       "\t<dt>V26</dt>\n",
       "\t\t<dd>8.66666666666667</dd>\n",
       "\t<dt>V27</dt>\n",
       "\t\t<dd>9.15</dd>\n",
       "\t<dt>V28</dt>\n",
       "\t\t<dd>7.25</dd>\n",
       "\t<dt>V29</dt>\n",
       "\t\t<dd>7.33333333333333</dd>\n",
       "\t<dt>V30</dt>\n",
       "\t\t<dd>6.58333333333333</dd>\n",
       "\t<dt>V31</dt>\n",
       "\t\t<dd>6.06666666666667</dd>\n",
       "\t<dt>V32</dt>\n",
       "\t\t<dd>5.95</dd>\n",
       "\t<dt>V33</dt>\n",
       "\t\t<dd>5.11666666666667</dd>\n",
       "\t<dt>V34</dt>\n",
       "\t\t<dd>3.6</dd>\n",
       "\t<dt>V35</dt>\n",
       "\t\t<dd>3.3</dd>\n",
       "\t<dt>V36</dt>\n",
       "\t\t<dd>3.56666666666667</dd>\n",
       "\t<dt>V37</dt>\n",
       "\t\t<dd>2.48333333333333</dd>\n",
       "\t<dt>V38</dt>\n",
       "\t\t<dd>1.5</dd>\n",
       "\t<dt>V39</dt>\n",
       "\t\t<dd>1.13333333333333</dd>\n",
       "\t<dt>V40</dt>\n",
       "\t\t<dd>0.566666666666667</dd>\n",
       "</dl>\n"
      ],
      "text/latex": [
       "\\begin{description*}\n",
       "\\item[V1] 0\n",
       "\\item[V2] 0.45\n",
       "\\item[V3] 1.11666666666667\n",
       "\\item[V4] 1.75\n",
       "\\item[V5] 2.43333333333333\n",
       "\\item[V6] 3.15\n",
       "\\item[V7] 3.8\n",
       "\\item[V8] 3.88333333333333\n",
       "\\item[V9] 5.23333333333333\n",
       "\\item[V10] 5.51666666666667\n",
       "\\item[V11] 5.95\n",
       "\\item[V12] 5.9\n",
       "\\item[V13] 8.35\n",
       "\\item[V14] 7.73333333333333\n",
       "\\item[V15] 8.36666666666667\n",
       "\\item[V16] 9.5\n",
       "\\item[V17] 9.58333333333333\n",
       "\\item[V18] 10.6333333333333\n",
       "\\item[V19] 11.5666666666667\n",
       "\\item[V20] 12.35\n",
       "\\item[V21] 13.25\n",
       "\\item[V22] 11.9666666666667\n",
       "\\item[V23] 11.0333333333333\n",
       "\\item[V24] 10.1666666666667\n",
       "\\item[V25] 10\n",
       "\\item[V26] 8.66666666666667\n",
       "\\item[V27] 9.15\n",
       "\\item[V28] 7.25\n",
       "\\item[V29] 7.33333333333333\n",
       "\\item[V30] 6.58333333333333\n",
       "\\item[V31] 6.06666666666667\n",
       "\\item[V32] 5.95\n",
       "\\item[V33] 5.11666666666667\n",
       "\\item[V34] 3.6\n",
       "\\item[V35] 3.3\n",
       "\\item[V36] 3.56666666666667\n",
       "\\item[V37] 2.48333333333333\n",
       "\\item[V38] 1.5\n",
       "\\item[V39] 1.13333333333333\n",
       "\\item[V40] 0.566666666666667\n",
       "\\end{description*}\n"
      ],
      "text/markdown": [
       "V1\n",
       ":   0V2\n",
       ":   0.45V3\n",
       ":   1.11666666666667V4\n",
       ":   1.75V5\n",
       ":   2.43333333333333V6\n",
       ":   3.15V7\n",
       ":   3.8V8\n",
       ":   3.88333333333333V9\n",
       ":   5.23333333333333V10\n",
       ":   5.51666666666667V11\n",
       ":   5.95V12\n",
       ":   5.9V13\n",
       ":   8.35V14\n",
       ":   7.73333333333333V15\n",
       ":   8.36666666666667V16\n",
       ":   9.5V17\n",
       ":   9.58333333333333V18\n",
       ":   10.6333333333333V19\n",
       ":   11.5666666666667V20\n",
       ":   12.35V21\n",
       ":   13.25V22\n",
       ":   11.9666666666667V23\n",
       ":   11.0333333333333V24\n",
       ":   10.1666666666667V25\n",
       ":   10V26\n",
       ":   8.66666666666667V27\n",
       ":   9.15V28\n",
       ":   7.25V29\n",
       ":   7.33333333333333V30\n",
       ":   6.58333333333333V31\n",
       ":   6.06666666666667V32\n",
       ":   5.95V33\n",
       ":   5.11666666666667V34\n",
       ":   3.6V35\n",
       ":   3.3V36\n",
       ":   3.56666666666667V37\n",
       ":   2.48333333333333V38\n",
       ":   1.5V39\n",
       ":   1.13333333333333V40\n",
       ":   0.566666666666667\n",
       "\n"
      ],
      "text/plain": [
       "        V1         V2         V3         V4         V5         V6         V7 \n",
       " 0.0000000  0.4500000  1.1166667  1.7500000  2.4333333  3.1500000  3.8000000 \n",
       "        V8         V9        V10        V11        V12        V13        V14 \n",
       " 3.8833333  5.2333333  5.5166667  5.9500000  5.9000000  8.3500000  7.7333333 \n",
       "       V15        V16        V17        V18        V19        V20        V21 \n",
       " 8.3666667  9.5000000  9.5833333 10.6333333 11.5666667 12.3500000 13.2500000 \n",
       "       V22        V23        V24        V25        V26        V27        V28 \n",
       "11.9666667 11.0333333 10.1666667 10.0000000  8.6666667  9.1500000  7.2500000 \n",
       "       V29        V30        V31        V32        V33        V34        V35 \n",
       " 7.3333333  6.5833333  6.0666667  5.9500000  5.1166667  3.6000000  3.3000000 \n",
       "       V36        V37        V38        V39        V40 \n",
       " 3.5666667  2.4833333  1.5000000  1.1333333  0.5666667 "
      ]
     },
     "metadata": {},
     "output_type": "display_data"
    }
   ],
   "source": [
    "avg_day_inflamation = apply(df, 2, mean)  #apply function 'mean' to all column/day (Margin=2) in df\n",
    "avg_day_inflamation"
   ]
  },
  {
   "cell_type": "code",
   "execution_count": 122,
   "metadata": {},
   "outputs": [
    {
     "data": {
      "text/html": [
       "40"
      ],
      "text/latex": [
       "40"
      ],
      "text/markdown": [
       "40"
      ],
      "text/plain": [
       "[1] 40"
      ]
     },
     "metadata": {},
     "output_type": "display_data"
    }
   ],
   "source": [
    "length(avg_day_inflamation) "
   ]
  },
  {
   "cell_type": "code",
   "execution_count": 123,
   "metadata": {},
   "outputs": [],
   "source": [
    "?apply #open R documentation for apply"
   ]
  },
  {
   "cell_type": "markdown",
   "metadata": {},
   "source": [
    "## Plot with R"
   ]
  },
  {
   "cell_type": "code",
   "execution_count": 126,
   "metadata": {},
   "outputs": [
    {
     "data": {
      "image/png": "[encoded data removed]",
      "text/plain": [
       "plot without title"
      ]
     },
     "metadata": {},
     "output_type": "display_data"
    }
   ],
   "source": [
    "plot(avg_day_inflamation, xlab=\"Days\", ylab=\"Average Inflamation\")  #plot"
   ]
  }
 ],
 "metadata": {
  "kernelspec": {
   "display_name": "R",
   "language": "R",
   "name": "ir"
  },
  "language_info": {
   "codemirror_mode": "r",
   "file_extension": ".r",
   "mimetype": "text/x-r-source",
   "name": "R",
   "pygments_lexer": "r",
   "version": "3.4.3"
  }
 },
 "nbformat": 4,
 "nbformat_minor": 2
}
